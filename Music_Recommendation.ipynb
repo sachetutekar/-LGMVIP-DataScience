{
  "nbformat": 4,
  "nbformat_minor": 0,
  "metadata": {
    "colab": {
      "name": "Music_Recommendation.ipynb",
      "provenance": [],
      "collapsed_sections": []
    },
    "kernelspec": {
      "name": "python3",
      "display_name": "Python 3"
    },
    "language_info": {
      "name": "python"
    }
  },
  "cells": [
    {
      "cell_type": "markdown",
      "metadata": {
        "id": "-Dm-ABjw1C3h"
      },
      "source": [
        "#**Author: Sachet Utekar**#"
      ]
    },
    {
      "cell_type": "markdown",
      "metadata": {
        "id": "5dI4m_en1Doa"
      },
      "source": [
        "##**Task - Music Recommendation System**##"
      ]
    },
    {
      "cell_type": "markdown",
      "metadata": {
        "id": "IBxnt0Lg1Dri"
      },
      "source": [
        "##**Dataset - https://www.kaggle.com/c/kkbox-music-recommendation-challenge/data**##"
      ]
    },
    {
      "cell_type": "markdown",
      "metadata": {
        "id": "bzEIaaT-onbS"
      },
      "source": [
        "##**Importing Libraries**##"
      ]
    },
    {
      "cell_type": "code",
      "metadata": {
        "id": "ARWPVi-uHkON"
      },
      "source": [
        "import numpy as np\n",
        "import pandas as pd\n",
        "import matplotlib.pyplot as plt\n",
        "import seaborn as sb"
      ],
      "execution_count": null,
      "outputs": []
    },
    {
      "cell_type": "code",
      "metadata": {
        "id": "T0Twt_KKH46o"
      },
      "source": [
        "from scipy.sparse import csr_matrix"
      ],
      "execution_count": null,
      "outputs": []
    },
    {
      "cell_type": "markdown",
      "metadata": {
        "id": "MiBLFaGxo0QP"
      },
      "source": [
        "##**Importing Dataset**##"
      ]
    },
    {
      "cell_type": "code",
      "metadata": {
        "colab": {
          "base_uri": "https://localhost:8080/",
          "height": 365
        },
        "id": "hJhXeaaXBIe2",
        "outputId": "171ce704-ffdf-4d0c-ccc3-6d843c58605b"
      },
      "source": [
        "dataset = pd.read_csv('/content/featuresdf.csv')\n",
        "dataset.head()"
      ],
      "execution_count": null,
      "outputs": [
        {
          "output_type": "execute_result",
          "data": {
            "text/html": [
              "<div>\n",
              "<style scoped>\n",
              "    .dataframe tbody tr th:only-of-type {\n",
              "        vertical-align: middle;\n",
              "    }\n",
              "\n",
              "    .dataframe tbody tr th {\n",
              "        vertical-align: top;\n",
              "    }\n",
              "\n",
              "    .dataframe thead th {\n",
              "        text-align: right;\n",
              "    }\n",
              "</style>\n",
              "<table border=\"1\" class=\"dataframe\">\n",
              "  <thead>\n",
              "    <tr style=\"text-align: right;\">\n",
              "      <th></th>\n",
              "      <th>id</th>\n",
              "      <th>name</th>\n",
              "      <th>artists</th>\n",
              "      <th>danceability</th>\n",
              "      <th>energy</th>\n",
              "      <th>key</th>\n",
              "      <th>loudness</th>\n",
              "      <th>mode</th>\n",
              "      <th>speechiness</th>\n",
              "      <th>acousticness</th>\n",
              "      <th>instrumentalness</th>\n",
              "      <th>liveness</th>\n",
              "      <th>valence</th>\n",
              "      <th>tempo</th>\n",
              "      <th>duration_ms</th>\n",
              "      <th>time_signature</th>\n",
              "    </tr>\n",
              "  </thead>\n",
              "  <tbody>\n",
              "    <tr>\n",
              "      <th>0</th>\n",
              "      <td>7qiZfU4dY1lWllzX7mPBI</td>\n",
              "      <td>Shape of You</td>\n",
              "      <td>Ed Sheeran</td>\n",
              "      <td>0.825</td>\n",
              "      <td>0.652</td>\n",
              "      <td>1.0</td>\n",
              "      <td>-3.183</td>\n",
              "      <td>0.0</td>\n",
              "      <td>0.0802</td>\n",
              "      <td>0.5810</td>\n",
              "      <td>0.000000</td>\n",
              "      <td>0.0931</td>\n",
              "      <td>0.931</td>\n",
              "      <td>95.977</td>\n",
              "      <td>233713.0</td>\n",
              "      <td>4.0</td>\n",
              "    </tr>\n",
              "    <tr>\n",
              "      <th>1</th>\n",
              "      <td>5CtI0qwDJkDQGwXD1H1cL</td>\n",
              "      <td>Despacito - Remix</td>\n",
              "      <td>Luis Fonsi</td>\n",
              "      <td>0.694</td>\n",
              "      <td>0.815</td>\n",
              "      <td>2.0</td>\n",
              "      <td>-4.328</td>\n",
              "      <td>1.0</td>\n",
              "      <td>0.1200</td>\n",
              "      <td>0.2290</td>\n",
              "      <td>0.000000</td>\n",
              "      <td>0.0924</td>\n",
              "      <td>0.813</td>\n",
              "      <td>88.931</td>\n",
              "      <td>228827.0</td>\n",
              "      <td>4.0</td>\n",
              "    </tr>\n",
              "    <tr>\n",
              "      <th>2</th>\n",
              "      <td>4aWmUDTfIPGksMNLV2rQP</td>\n",
              "      <td>Despacito (Featuring Daddy Yankee)</td>\n",
              "      <td>Luis Fonsi</td>\n",
              "      <td>0.660</td>\n",
              "      <td>0.786</td>\n",
              "      <td>2.0</td>\n",
              "      <td>-4.757</td>\n",
              "      <td>1.0</td>\n",
              "      <td>0.1700</td>\n",
              "      <td>0.2090</td>\n",
              "      <td>0.000000</td>\n",
              "      <td>0.1120</td>\n",
              "      <td>0.846</td>\n",
              "      <td>177.833</td>\n",
              "      <td>228200.0</td>\n",
              "      <td>4.0</td>\n",
              "    </tr>\n",
              "    <tr>\n",
              "      <th>3</th>\n",
              "      <td>6RUKPb4LETWmmr3iAEQkt</td>\n",
              "      <td>Something Just Like This</td>\n",
              "      <td>The Chainsmokers</td>\n",
              "      <td>0.617</td>\n",
              "      <td>0.635</td>\n",
              "      <td>11.0</td>\n",
              "      <td>-6.769</td>\n",
              "      <td>0.0</td>\n",
              "      <td>0.0317</td>\n",
              "      <td>0.0498</td>\n",
              "      <td>0.000014</td>\n",
              "      <td>0.1640</td>\n",
              "      <td>0.446</td>\n",
              "      <td>103.019</td>\n",
              "      <td>247160.0</td>\n",
              "      <td>4.0</td>\n",
              "    </tr>\n",
              "    <tr>\n",
              "      <th>4</th>\n",
              "      <td>3DXncPQOG4VBw3QHh3S81</td>\n",
              "      <td>I'm the One</td>\n",
              "      <td>DJ Khaled</td>\n",
              "      <td>0.609</td>\n",
              "      <td>0.668</td>\n",
              "      <td>7.0</td>\n",
              "      <td>-4.284</td>\n",
              "      <td>1.0</td>\n",
              "      <td>0.0367</td>\n",
              "      <td>0.0552</td>\n",
              "      <td>0.000000</td>\n",
              "      <td>0.1670</td>\n",
              "      <td>0.811</td>\n",
              "      <td>80.924</td>\n",
              "      <td>288600.0</td>\n",
              "      <td>4.0</td>\n",
              "    </tr>\n",
              "  </tbody>\n",
              "</table>\n",
              "</div>"
            ],
            "text/plain": [
              "                      id  ... time_signature\n",
              "0  7qiZfU4dY1lWllzX7mPBI  ...            4.0\n",
              "1  5CtI0qwDJkDQGwXD1H1cL  ...            4.0\n",
              "2  4aWmUDTfIPGksMNLV2rQP  ...            4.0\n",
              "3  6RUKPb4LETWmmr3iAEQkt  ...            4.0\n",
              "4  3DXncPQOG4VBw3QHh3S81  ...            4.0\n",
              "\n",
              "[5 rows x 16 columns]"
            ]
          },
          "metadata": {},
          "execution_count": 3
        }
      ]
    },
    {
      "cell_type": "markdown",
      "metadata": {
        "id": "Bo0_2FAwpNhQ"
      },
      "source": [
        "##**Analysing the Dataset**##"
      ]
    },
    {
      "cell_type": "code",
      "metadata": {
        "colab": {
          "base_uri": "https://localhost:8080/",
          "height": 320
        },
        "id": "EoDS-8W3pS7x",
        "outputId": "cc4341ff-87ff-421e-8a97-2b30b418d435"
      },
      "source": [
        "dataset.describe()"
      ],
      "execution_count": null,
      "outputs": [
        {
          "output_type": "execute_result",
          "data": {
            "text/html": [
              "<div>\n",
              "<style scoped>\n",
              "    .dataframe tbody tr th:only-of-type {\n",
              "        vertical-align: middle;\n",
              "    }\n",
              "\n",
              "    .dataframe tbody tr th {\n",
              "        vertical-align: top;\n",
              "    }\n",
              "\n",
              "    .dataframe thead th {\n",
              "        text-align: right;\n",
              "    }\n",
              "</style>\n",
              "<table border=\"1\" class=\"dataframe\">\n",
              "  <thead>\n",
              "    <tr style=\"text-align: right;\">\n",
              "      <th></th>\n",
              "      <th>danceability</th>\n",
              "      <th>energy</th>\n",
              "      <th>key</th>\n",
              "      <th>loudness</th>\n",
              "      <th>mode</th>\n",
              "      <th>speechiness</th>\n",
              "      <th>acousticness</th>\n",
              "      <th>instrumentalness</th>\n",
              "      <th>liveness</th>\n",
              "      <th>valence</th>\n",
              "      <th>tempo</th>\n",
              "      <th>duration_ms</th>\n",
              "      <th>time_signature</th>\n",
              "    </tr>\n",
              "  </thead>\n",
              "  <tbody>\n",
              "    <tr>\n",
              "      <th>count</th>\n",
              "      <td>100.00000</td>\n",
              "      <td>100.000000</td>\n",
              "      <td>100.000000</td>\n",
              "      <td>100.000000</td>\n",
              "      <td>100.000000</td>\n",
              "      <td>100.000000</td>\n",
              "      <td>100.000000</td>\n",
              "      <td>100.000000</td>\n",
              "      <td>100.000000</td>\n",
              "      <td>100.000000</td>\n",
              "      <td>100.000000</td>\n",
              "      <td>100.00000</td>\n",
              "      <td>100.00</td>\n",
              "    </tr>\n",
              "    <tr>\n",
              "      <th>mean</th>\n",
              "      <td>0.69682</td>\n",
              "      <td>0.660690</td>\n",
              "      <td>5.570000</td>\n",
              "      <td>-5.652650</td>\n",
              "      <td>0.580000</td>\n",
              "      <td>0.103969</td>\n",
              "      <td>0.166306</td>\n",
              "      <td>0.004796</td>\n",
              "      <td>0.150607</td>\n",
              "      <td>0.517049</td>\n",
              "      <td>119.202460</td>\n",
              "      <td>218387.28000</td>\n",
              "      <td>3.99</td>\n",
              "    </tr>\n",
              "    <tr>\n",
              "      <th>std</th>\n",
              "      <td>0.12508</td>\n",
              "      <td>0.139207</td>\n",
              "      <td>3.731534</td>\n",
              "      <td>1.802067</td>\n",
              "      <td>0.496045</td>\n",
              "      <td>0.095115</td>\n",
              "      <td>0.166730</td>\n",
              "      <td>0.026038</td>\n",
              "      <td>0.079011</td>\n",
              "      <td>0.216436</td>\n",
              "      <td>27.952928</td>\n",
              "      <td>32851.07772</td>\n",
              "      <td>0.10</td>\n",
              "    </tr>\n",
              "    <tr>\n",
              "      <th>min</th>\n",
              "      <td>0.25800</td>\n",
              "      <td>0.346000</td>\n",
              "      <td>0.000000</td>\n",
              "      <td>-11.462000</td>\n",
              "      <td>0.000000</td>\n",
              "      <td>0.023200</td>\n",
              "      <td>0.000259</td>\n",
              "      <td>0.000000</td>\n",
              "      <td>0.042400</td>\n",
              "      <td>0.086200</td>\n",
              "      <td>75.016000</td>\n",
              "      <td>165387.00000</td>\n",
              "      <td>3.00</td>\n",
              "    </tr>\n",
              "    <tr>\n",
              "      <th>25%</th>\n",
              "      <td>0.63500</td>\n",
              "      <td>0.556500</td>\n",
              "      <td>2.000000</td>\n",
              "      <td>-6.594500</td>\n",
              "      <td>0.000000</td>\n",
              "      <td>0.043125</td>\n",
              "      <td>0.039100</td>\n",
              "      <td>0.000000</td>\n",
              "      <td>0.098275</td>\n",
              "      <td>0.375500</td>\n",
              "      <td>99.911750</td>\n",
              "      <td>198490.50000</td>\n",
              "      <td>4.00</td>\n",
              "    </tr>\n",
              "    <tr>\n",
              "      <th>50%</th>\n",
              "      <td>0.71400</td>\n",
              "      <td>0.667500</td>\n",
              "      <td>6.000000</td>\n",
              "      <td>-5.437000</td>\n",
              "      <td>1.000000</td>\n",
              "      <td>0.062650</td>\n",
              "      <td>0.106500</td>\n",
              "      <td>0.000000</td>\n",
              "      <td>0.125000</td>\n",
              "      <td>0.502500</td>\n",
              "      <td>112.468000</td>\n",
              "      <td>214106.00000</td>\n",
              "      <td>4.00</td>\n",
              "    </tr>\n",
              "    <tr>\n",
              "      <th>75%</th>\n",
              "      <td>0.77025</td>\n",
              "      <td>0.787500</td>\n",
              "      <td>9.000000</td>\n",
              "      <td>-4.326750</td>\n",
              "      <td>1.000000</td>\n",
              "      <td>0.123000</td>\n",
              "      <td>0.231250</td>\n",
              "      <td>0.000013</td>\n",
              "      <td>0.179250</td>\n",
              "      <td>0.679000</td>\n",
              "      <td>137.166000</td>\n",
              "      <td>230543.00000</td>\n",
              "      <td>4.00</td>\n",
              "    </tr>\n",
              "    <tr>\n",
              "      <th>max</th>\n",
              "      <td>0.92700</td>\n",
              "      <td>0.932000</td>\n",
              "      <td>11.000000</td>\n",
              "      <td>-2.396000</td>\n",
              "      <td>1.000000</td>\n",
              "      <td>0.431000</td>\n",
              "      <td>0.695000</td>\n",
              "      <td>0.210000</td>\n",
              "      <td>0.440000</td>\n",
              "      <td>0.966000</td>\n",
              "      <td>199.864000</td>\n",
              "      <td>343150.00000</td>\n",
              "      <td>4.00</td>\n",
              "    </tr>\n",
              "  </tbody>\n",
              "</table>\n",
              "</div>"
            ],
            "text/plain": [
              "       danceability      energy  ...   duration_ms  time_signature\n",
              "count     100.00000  100.000000  ...     100.00000          100.00\n",
              "mean        0.69682    0.660690  ...  218387.28000            3.99\n",
              "std         0.12508    0.139207  ...   32851.07772            0.10\n",
              "min         0.25800    0.346000  ...  165387.00000            3.00\n",
              "25%         0.63500    0.556500  ...  198490.50000            4.00\n",
              "50%         0.71400    0.667500  ...  214106.00000            4.00\n",
              "75%         0.77025    0.787500  ...  230543.00000            4.00\n",
              "max         0.92700    0.932000  ...  343150.00000            4.00\n",
              "\n",
              "[8 rows x 13 columns]"
            ]
          },
          "metadata": {},
          "execution_count": 4
        }
      ]
    },
    {
      "cell_type": "code",
      "metadata": {
        "colab": {
          "base_uri": "https://localhost:8080/"
        },
        "id": "EMjJ1N_GJBPD",
        "outputId": "b565b991-2e68-479f-a1f8-b4cbe18aa2f8"
      },
      "source": [
        "dataset.isnull().sum()"
      ],
      "execution_count": null,
      "outputs": [
        {
          "output_type": "execute_result",
          "data": {
            "text/plain": [
              "id                  0\n",
              "name                0\n",
              "artists             0\n",
              "danceability        0\n",
              "energy              0\n",
              "key                 0\n",
              "loudness            0\n",
              "mode                0\n",
              "speechiness         0\n",
              "acousticness        0\n",
              "instrumentalness    0\n",
              "liveness            0\n",
              "valence             0\n",
              "tempo               0\n",
              "duration_ms         0\n",
              "time_signature      0\n",
              "dtype: int64"
            ]
          },
          "metadata": {},
          "execution_count": 5
        }
      ]
    },
    {
      "cell_type": "code",
      "metadata": {
        "colab": {
          "base_uri": "https://localhost:8080/"
        },
        "id": "HZNfk6dbN0o1",
        "outputId": "94887ea8-94be-45d0-cfdf-28996616bf2d"
      },
      "source": [
        "dataset.dtypes"
      ],
      "execution_count": null,
      "outputs": [
        {
          "output_type": "execute_result",
          "data": {
            "text/plain": [
              "id                   object\n",
              "name                 object\n",
              "artists              object\n",
              "danceability        float64\n",
              "energy              float64\n",
              "key                 float64\n",
              "loudness            float64\n",
              "mode                float64\n",
              "speechiness         float64\n",
              "acousticness        float64\n",
              "instrumentalness    float64\n",
              "liveness            float64\n",
              "valence             float64\n",
              "tempo               float64\n",
              "duration_ms         float64\n",
              "time_signature      float64\n",
              "dtype: object"
            ]
          },
          "metadata": {},
          "execution_count": 6
        }
      ]
    },
    {
      "cell_type": "code",
      "metadata": {
        "colab": {
          "base_uri": "https://localhost:8080/"
        },
        "id": "q1WDH7WXI5-_",
        "outputId": "36e9717f-0737-410e-fa5f-9272e9f16e47"
      },
      "source": [
        "print(f\"There are {dataset.shape[0]} observations in the dataset\")"
      ],
      "execution_count": null,
      "outputs": [
        {
          "output_type": "stream",
          "text": [
            "There are 100 observations in the dataset\n"
          ],
          "name": "stdout"
        }
      ]
    },
    {
      "cell_type": "code",
      "metadata": {
        "colab": {
          "base_uri": "https://localhost:8080/"
        },
        "id": "q2BvpyBYN0sQ",
        "outputId": "5cb08169-b472-4886-c139-64a9621235a6"
      },
      "source": [
        "unique_artists = dataset['artists'].unique().shape[0]\n",
        "print(f\"There are {unique_artists} unique artists in the dataset\")"
      ],
      "execution_count": null,
      "outputs": [
        {
          "output_type": "stream",
          "text": [
            "There are 78 unique artists in the dataset\n"
          ],
          "name": "stdout"
        }
      ]
    },
    {
      "cell_type": "code",
      "metadata": {
        "colab": {
          "base_uri": "https://localhost:8080/"
        },
        "id": "KdOfY_SUW2ny",
        "outputId": "46130bf3-fb43-4e67-a8d5-e2e1ea109c0a"
      },
      "source": [
        "unique_users = dataset['id'].unique().shape[0]\n",
        "print(f\"There are {unique_users} unique users in the dataset\")"
      ],
      "execution_count": null,
      "outputs": [
        {
          "output_type": "stream",
          "text": [
            "There are 100 unique users in the dataset\n"
          ],
          "name": "stdout"
        }
      ]
    },
    {
      "cell_type": "markdown",
      "metadata": {
        "id": "vCtopLwXwMQX"
      },
      "source": [
        "##**Comparing the tracks**##"
      ]
    },
    {
      "cell_type": "code",
      "metadata": {
        "colab": {
          "base_uri": "https://localhost:8080/"
        },
        "id": "S-x0MHJ6wLun",
        "outputId": "42a33c54-580a-4122-d0c6-685313a68b75"
      },
      "source": [
        "music_tracks = dataset.pivot_table(index = 'artists', columns = 'name', values = 'tempo')\n",
        "print(music_tracks)"
      ],
      "execution_count": null,
      "outputs": [
        {
          "output_type": "stream",
          "text": [
            "name           1-800-273-8255  24K Magic  ...  iSpy (feat. Lil Yachty)  rockstar\n",
            "artists                                   ...                                   \n",
            "21 Savage                 NaN        NaN  ...                      NaN       NaN\n",
            "AJR                       NaN        NaN  ...                      NaN       NaN\n",
            "Alessia Cara              NaN        NaN  ...                      NaN       NaN\n",
            "Alok                      NaN        NaN  ...                      NaN       NaN\n",
            "Ariana Grande             NaN        NaN  ...                      NaN       NaN\n",
            "...                       ...        ...  ...                      ...       ...\n",
            "Travis Scott              NaN        NaN  ...                      NaN       NaN\n",
            "Wisin                     NaN        NaN  ...                      NaN       NaN\n",
            "ZAYN                      NaN        NaN  ...                      NaN       NaN\n",
            "Zedd                      NaN        NaN  ...                      NaN       NaN\n",
            "Zion & Lennox             NaN        NaN  ...                      NaN       NaN\n",
            "\n",
            "[78 rows x 100 columns]\n"
          ],
          "name": "stdout"
        }
      ]
    },
    {
      "cell_type": "code",
      "metadata": {
        "colab": {
          "base_uri": "https://localhost:8080/",
          "height": 557
        },
        "id": "Bghs9oOly5e2",
        "outputId": "dd2eddd1-59b0-4b82-8484-1686707827d5"
      },
      "source": [
        "music_tracks.describe()"
      ],
      "execution_count": null,
      "outputs": [
        {
          "output_type": "execute_result",
          "data": {
            "text/html": [
              "<div>\n",
              "<style scoped>\n",
              "    .dataframe tbody tr th:only-of-type {\n",
              "        vertical-align: middle;\n",
              "    }\n",
              "\n",
              "    .dataframe tbody tr th {\n",
              "        vertical-align: top;\n",
              "    }\n",
              "\n",
              "    .dataframe thead th {\n",
              "        text-align: right;\n",
              "    }\n",
              "</style>\n",
              "<table border=\"1\" class=\"dataframe\">\n",
              "  <thead>\n",
              "    <tr style=\"text-align: right;\">\n",
              "      <th>name</th>\n",
              "      <th>1-800-273-8255</th>\n",
              "      <th>24K Magic</th>\n",
              "      <th>2U (feat. Justin Bieber)</th>\n",
              "      <th>Ahora Dice</th>\n",
              "      <th>All Night</th>\n",
              "      <th>Attention</th>\n",
              "      <th>Bad Things (with Camila Cabello)</th>\n",
              "      <th>Bad and Boujee (feat. Lil Uzi Vert)</th>\n",
              "      <th>Bank Account</th>\n",
              "      <th>Believer</th>\n",
              "      <th>Body Like A Back Road</th>\n",
              "      <th>Bounce Back</th>\n",
              "      <th>Call On Me - Ryan Riback Extended Remix</th>\n",
              "      <th>Castle on the Hill</th>\n",
              "      <th>Chained To The Rhythm</th>\n",
              "      <th>Chantaje</th>\n",
              "      <th>Closer</th>\n",
              "      <th>Cold (feat. Future)</th>\n",
              "      <th>Cold Water (feat. Justin Bieber &amp; MØ)</th>\n",
              "      <th>Congratulations</th>\n",
              "      <th>DNA.</th>\n",
              "      <th>Despacito (Featuring Daddy Yankee)</th>\n",
              "      <th>Despacito - Remix</th>\n",
              "      <th>Don't Let Me Down</th>\n",
              "      <th>Don't Wanna Know (feat. Kendrick Lamar)</th>\n",
              "      <th>Dusk Till Dawn - Radio Edit</th>\n",
              "      <th>El Amante</th>\n",
              "      <th>Escápate Conmigo</th>\n",
              "      <th>Fake Love</th>\n",
              "      <th>Feels</th>\n",
              "      <th>Felices los 4</th>\n",
              "      <th>Friends (with BloodPop®)</th>\n",
              "      <th>Galway Girl</th>\n",
              "      <th>Glorious (feat. Skylar Grey)</th>\n",
              "      <th>HUMBLE.</th>\n",
              "      <th>Havana</th>\n",
              "      <th>Hear Me Now</th>\n",
              "      <th>How Far I'll Go - From \"Moana\"</th>\n",
              "      <th>I Don’t Wanna Live Forever (Fifty Shades Darker) - From \"Fifty Shades Darker (Original Motion Picture Soundtrack)\"</th>\n",
              "      <th>I Feel It Coming</th>\n",
              "      <th>...</th>\n",
              "      <th>Paris</th>\n",
              "      <th>Passionfruit</th>\n",
              "      <th>Perfect</th>\n",
              "      <th>Pretty Girl - Cheat Codes X CADE Remix</th>\n",
              "      <th>Redbone</th>\n",
              "      <th>Reggaetón Lento (Bailemos)</th>\n",
              "      <th>Rockabye (feat. Sean Paul &amp; Anne-Marie)</th>\n",
              "      <th>SUBEME LA RADIO</th>\n",
              "      <th>Say You Won't Let Go</th>\n",
              "      <th>Scared to Be Lonely</th>\n",
              "      <th>Shape of You</th>\n",
              "      <th>Side To Side</th>\n",
              "      <th>Sign of the Times</th>\n",
              "      <th>Silence</th>\n",
              "      <th>Slide</th>\n",
              "      <th>Slow Hands</th>\n",
              "      <th>Solo Dance</th>\n",
              "      <th>Something Just Like This</th>\n",
              "      <th>Sorry Not Sorry</th>\n",
              "      <th>Starboy</th>\n",
              "      <th>Starving</th>\n",
              "      <th>Stay (with Alessia Cara)</th>\n",
              "      <th>Strip That Down</th>\n",
              "      <th>Swalla (feat. Nicki Minaj &amp; Ty Dolla $ign)</th>\n",
              "      <th>Symphony (feat. Zara Larsson)</th>\n",
              "      <th>That's What I Like</th>\n",
              "      <th>There for You</th>\n",
              "      <th>There's Nothing Holdin' Me Back</th>\n",
              "      <th>Thunder</th>\n",
              "      <th>Too Good At Goodbyes</th>\n",
              "      <th>Unforgettable</th>\n",
              "      <th>Weak</th>\n",
              "      <th>Wild Thoughts</th>\n",
              "      <th>XO TOUR Llif3</th>\n",
              "      <th>You Don't Know Me - Radio Edit</th>\n",
              "      <th>Young Dumb &amp; Broke</th>\n",
              "      <th>Your Song</th>\n",
              "      <th>goosebumps</th>\n",
              "      <th>iSpy (feat. Lil Yachty)</th>\n",
              "      <th>rockstar</th>\n",
              "    </tr>\n",
              "  </thead>\n",
              "  <tbody>\n",
              "    <tr>\n",
              "      <th>count</th>\n",
              "      <td>1.000</td>\n",
              "      <td>1.00</td>\n",
              "      <td>1.000</td>\n",
              "      <td>1.000</td>\n",
              "      <td>1.000</td>\n",
              "      <td>1.000</td>\n",
              "      <td>1.000</td>\n",
              "      <td>1.000</td>\n",
              "      <td>1.000</td>\n",
              "      <td>1.000</td>\n",
              "      <td>1.000</td>\n",
              "      <td>1.000</td>\n",
              "      <td>1.000</td>\n",
              "      <td>1.000</td>\n",
              "      <td>1.000</td>\n",
              "      <td>1.000</td>\n",
              "      <td>1.00</td>\n",
              "      <td>1.000</td>\n",
              "      <td>1.000</td>\n",
              "      <td>1.000</td>\n",
              "      <td>1.000</td>\n",
              "      <td>1.000</td>\n",
              "      <td>1.000</td>\n",
              "      <td>1.000</td>\n",
              "      <td>1.000</td>\n",
              "      <td>1.000</td>\n",
              "      <td>1.00</td>\n",
              "      <td>1.000</td>\n",
              "      <td>1.000</td>\n",
              "      <td>1.000</td>\n",
              "      <td>1.000</td>\n",
              "      <td>1.00</td>\n",
              "      <td>1.000</td>\n",
              "      <td>1.000</td>\n",
              "      <td>1.00</td>\n",
              "      <td>1.000</td>\n",
              "      <td>1.000</td>\n",
              "      <td>1.000</td>\n",
              "      <td>1.000</td>\n",
              "      <td>1.000</td>\n",
              "      <td>...</td>\n",
              "      <td>1.00</td>\n",
              "      <td>1.00</td>\n",
              "      <td>1.00</td>\n",
              "      <td>1.00</td>\n",
              "      <td>1.000</td>\n",
              "      <td>1.000</td>\n",
              "      <td>1.000</td>\n",
              "      <td>1.000</td>\n",
              "      <td>1.000</td>\n",
              "      <td>1.000</td>\n",
              "      <td>1.000</td>\n",
              "      <td>1.000</td>\n",
              "      <td>1.000</td>\n",
              "      <td>1.000</td>\n",
              "      <td>1.000</td>\n",
              "      <td>1.000</td>\n",
              "      <td>1.000</td>\n",
              "      <td>1.000</td>\n",
              "      <td>1.000</td>\n",
              "      <td>1.000</td>\n",
              "      <td>1.000</td>\n",
              "      <td>1.000</td>\n",
              "      <td>1.000</td>\n",
              "      <td>1.000</td>\n",
              "      <td>1.000</td>\n",
              "      <td>1.000</td>\n",
              "      <td>1.000</td>\n",
              "      <td>1.000</td>\n",
              "      <td>1.00</td>\n",
              "      <td>1.00</td>\n",
              "      <td>1.000</td>\n",
              "      <td>1.00</td>\n",
              "      <td>1.00</td>\n",
              "      <td>1.000</td>\n",
              "      <td>1.000</td>\n",
              "      <td>1.000</td>\n",
              "      <td>1.000</td>\n",
              "      <td>1.000</td>\n",
              "      <td>1.000</td>\n",
              "      <td>1.000</td>\n",
              "    </tr>\n",
              "    <tr>\n",
              "      <th>mean</th>\n",
              "      <td>100.015</td>\n",
              "      <td>106.97</td>\n",
              "      <td>144.937</td>\n",
              "      <td>143.965</td>\n",
              "      <td>145.017</td>\n",
              "      <td>100.041</td>\n",
              "      <td>137.817</td>\n",
              "      <td>127.076</td>\n",
              "      <td>75.016</td>\n",
              "      <td>124.982</td>\n",
              "      <td>98.963</td>\n",
              "      <td>81.477</td>\n",
              "      <td>105.003</td>\n",
              "      <td>135.007</td>\n",
              "      <td>189.798</td>\n",
              "      <td>102.034</td>\n",
              "      <td>95.01</td>\n",
              "      <td>99.905</td>\n",
              "      <td>92.943</td>\n",
              "      <td>123.071</td>\n",
              "      <td>139.931</td>\n",
              "      <td>177.833</td>\n",
              "      <td>88.931</td>\n",
              "      <td>159.797</td>\n",
              "      <td>100.048</td>\n",
              "      <td>180.043</td>\n",
              "      <td>179.91</td>\n",
              "      <td>92.028</td>\n",
              "      <td>133.987</td>\n",
              "      <td>101.018</td>\n",
              "      <td>93.973</td>\n",
              "      <td>104.99</td>\n",
              "      <td>99.943</td>\n",
              "      <td>139.994</td>\n",
              "      <td>150.02</td>\n",
              "      <td>104.992</td>\n",
              "      <td>121.971</td>\n",
              "      <td>179.666</td>\n",
              "      <td>117.973</td>\n",
              "      <td>92.994</td>\n",
              "      <td>...</td>\n",
              "      <td>99.99</td>\n",
              "      <td>111.98</td>\n",
              "      <td>95.05</td>\n",
              "      <td>121.03</td>\n",
              "      <td>160.083</td>\n",
              "      <td>93.974</td>\n",
              "      <td>101.965</td>\n",
              "      <td>91.048</td>\n",
              "      <td>85.043</td>\n",
              "      <td>137.972</td>\n",
              "      <td>95.977</td>\n",
              "      <td>159.145</td>\n",
              "      <td>119.972</td>\n",
              "      <td>141.971</td>\n",
              "      <td>104.066</td>\n",
              "      <td>85.909</td>\n",
              "      <td>114.965</td>\n",
              "      <td>103.019</td>\n",
              "      <td>144.021</td>\n",
              "      <td>186.054</td>\n",
              "      <td>99.914</td>\n",
              "      <td>102.013</td>\n",
              "      <td>106.028</td>\n",
              "      <td>98.064</td>\n",
              "      <td>122.863</td>\n",
              "      <td>134.066</td>\n",
              "      <td>105.969</td>\n",
              "      <td>121.996</td>\n",
              "      <td>167.88</td>\n",
              "      <td>91.92</td>\n",
              "      <td>97.985</td>\n",
              "      <td>123.98</td>\n",
              "      <td>97.98</td>\n",
              "      <td>155.096</td>\n",
              "      <td>124.007</td>\n",
              "      <td>136.949</td>\n",
              "      <td>117.959</td>\n",
              "      <td>130.049</td>\n",
              "      <td>75.016</td>\n",
              "      <td>159.772</td>\n",
              "    </tr>\n",
              "    <tr>\n",
              "      <th>std</th>\n",
              "      <td>NaN</td>\n",
              "      <td>NaN</td>\n",
              "      <td>NaN</td>\n",
              "      <td>NaN</td>\n",
              "      <td>NaN</td>\n",
              "      <td>NaN</td>\n",
              "      <td>NaN</td>\n",
              "      <td>NaN</td>\n",
              "      <td>NaN</td>\n",
              "      <td>NaN</td>\n",
              "      <td>NaN</td>\n",
              "      <td>NaN</td>\n",
              "      <td>NaN</td>\n",
              "      <td>NaN</td>\n",
              "      <td>NaN</td>\n",
              "      <td>NaN</td>\n",
              "      <td>NaN</td>\n",
              "      <td>NaN</td>\n",
              "      <td>NaN</td>\n",
              "      <td>NaN</td>\n",
              "      <td>NaN</td>\n",
              "      <td>NaN</td>\n",
              "      <td>NaN</td>\n",
              "      <td>NaN</td>\n",
              "      <td>NaN</td>\n",
              "      <td>NaN</td>\n",
              "      <td>NaN</td>\n",
              "      <td>NaN</td>\n",
              "      <td>NaN</td>\n",
              "      <td>NaN</td>\n",
              "      <td>NaN</td>\n",
              "      <td>NaN</td>\n",
              "      <td>NaN</td>\n",
              "      <td>NaN</td>\n",
              "      <td>NaN</td>\n",
              "      <td>NaN</td>\n",
              "      <td>NaN</td>\n",
              "      <td>NaN</td>\n",
              "      <td>NaN</td>\n",
              "      <td>NaN</td>\n",
              "      <td>...</td>\n",
              "      <td>NaN</td>\n",
              "      <td>NaN</td>\n",
              "      <td>NaN</td>\n",
              "      <td>NaN</td>\n",
              "      <td>NaN</td>\n",
              "      <td>NaN</td>\n",
              "      <td>NaN</td>\n",
              "      <td>NaN</td>\n",
              "      <td>NaN</td>\n",
              "      <td>NaN</td>\n",
              "      <td>NaN</td>\n",
              "      <td>NaN</td>\n",
              "      <td>NaN</td>\n",
              "      <td>NaN</td>\n",
              "      <td>NaN</td>\n",
              "      <td>NaN</td>\n",
              "      <td>NaN</td>\n",
              "      <td>NaN</td>\n",
              "      <td>NaN</td>\n",
              "      <td>NaN</td>\n",
              "      <td>NaN</td>\n",
              "      <td>NaN</td>\n",
              "      <td>NaN</td>\n",
              "      <td>NaN</td>\n",
              "      <td>NaN</td>\n",
              "      <td>NaN</td>\n",
              "      <td>NaN</td>\n",
              "      <td>NaN</td>\n",
              "      <td>NaN</td>\n",
              "      <td>NaN</td>\n",
              "      <td>NaN</td>\n",
              "      <td>NaN</td>\n",
              "      <td>NaN</td>\n",
              "      <td>NaN</td>\n",
              "      <td>NaN</td>\n",
              "      <td>NaN</td>\n",
              "      <td>NaN</td>\n",
              "      <td>NaN</td>\n",
              "      <td>NaN</td>\n",
              "      <td>NaN</td>\n",
              "    </tr>\n",
              "    <tr>\n",
              "      <th>min</th>\n",
              "      <td>100.015</td>\n",
              "      <td>106.97</td>\n",
              "      <td>144.937</td>\n",
              "      <td>143.965</td>\n",
              "      <td>145.017</td>\n",
              "      <td>100.041</td>\n",
              "      <td>137.817</td>\n",
              "      <td>127.076</td>\n",
              "      <td>75.016</td>\n",
              "      <td>124.982</td>\n",
              "      <td>98.963</td>\n",
              "      <td>81.477</td>\n",
              "      <td>105.003</td>\n",
              "      <td>135.007</td>\n",
              "      <td>189.798</td>\n",
              "      <td>102.034</td>\n",
              "      <td>95.01</td>\n",
              "      <td>99.905</td>\n",
              "      <td>92.943</td>\n",
              "      <td>123.071</td>\n",
              "      <td>139.931</td>\n",
              "      <td>177.833</td>\n",
              "      <td>88.931</td>\n",
              "      <td>159.797</td>\n",
              "      <td>100.048</td>\n",
              "      <td>180.043</td>\n",
              "      <td>179.91</td>\n",
              "      <td>92.028</td>\n",
              "      <td>133.987</td>\n",
              "      <td>101.018</td>\n",
              "      <td>93.973</td>\n",
              "      <td>104.99</td>\n",
              "      <td>99.943</td>\n",
              "      <td>139.994</td>\n",
              "      <td>150.02</td>\n",
              "      <td>104.992</td>\n",
              "      <td>121.971</td>\n",
              "      <td>179.666</td>\n",
              "      <td>117.973</td>\n",
              "      <td>92.994</td>\n",
              "      <td>...</td>\n",
              "      <td>99.99</td>\n",
              "      <td>111.98</td>\n",
              "      <td>95.05</td>\n",
              "      <td>121.03</td>\n",
              "      <td>160.083</td>\n",
              "      <td>93.974</td>\n",
              "      <td>101.965</td>\n",
              "      <td>91.048</td>\n",
              "      <td>85.043</td>\n",
              "      <td>137.972</td>\n",
              "      <td>95.977</td>\n",
              "      <td>159.145</td>\n",
              "      <td>119.972</td>\n",
              "      <td>141.971</td>\n",
              "      <td>104.066</td>\n",
              "      <td>85.909</td>\n",
              "      <td>114.965</td>\n",
              "      <td>103.019</td>\n",
              "      <td>144.021</td>\n",
              "      <td>186.054</td>\n",
              "      <td>99.914</td>\n",
              "      <td>102.013</td>\n",
              "      <td>106.028</td>\n",
              "      <td>98.064</td>\n",
              "      <td>122.863</td>\n",
              "      <td>134.066</td>\n",
              "      <td>105.969</td>\n",
              "      <td>121.996</td>\n",
              "      <td>167.88</td>\n",
              "      <td>91.92</td>\n",
              "      <td>97.985</td>\n",
              "      <td>123.98</td>\n",
              "      <td>97.98</td>\n",
              "      <td>155.096</td>\n",
              "      <td>124.007</td>\n",
              "      <td>136.949</td>\n",
              "      <td>117.959</td>\n",
              "      <td>130.049</td>\n",
              "      <td>75.016</td>\n",
              "      <td>159.772</td>\n",
              "    </tr>\n",
              "    <tr>\n",
              "      <th>25%</th>\n",
              "      <td>100.015</td>\n",
              "      <td>106.97</td>\n",
              "      <td>144.937</td>\n",
              "      <td>143.965</td>\n",
              "      <td>145.017</td>\n",
              "      <td>100.041</td>\n",
              "      <td>137.817</td>\n",
              "      <td>127.076</td>\n",
              "      <td>75.016</td>\n",
              "      <td>124.982</td>\n",
              "      <td>98.963</td>\n",
              "      <td>81.477</td>\n",
              "      <td>105.003</td>\n",
              "      <td>135.007</td>\n",
              "      <td>189.798</td>\n",
              "      <td>102.034</td>\n",
              "      <td>95.01</td>\n",
              "      <td>99.905</td>\n",
              "      <td>92.943</td>\n",
              "      <td>123.071</td>\n",
              "      <td>139.931</td>\n",
              "      <td>177.833</td>\n",
              "      <td>88.931</td>\n",
              "      <td>159.797</td>\n",
              "      <td>100.048</td>\n",
              "      <td>180.043</td>\n",
              "      <td>179.91</td>\n",
              "      <td>92.028</td>\n",
              "      <td>133.987</td>\n",
              "      <td>101.018</td>\n",
              "      <td>93.973</td>\n",
              "      <td>104.99</td>\n",
              "      <td>99.943</td>\n",
              "      <td>139.994</td>\n",
              "      <td>150.02</td>\n",
              "      <td>104.992</td>\n",
              "      <td>121.971</td>\n",
              "      <td>179.666</td>\n",
              "      <td>117.973</td>\n",
              "      <td>92.994</td>\n",
              "      <td>...</td>\n",
              "      <td>99.99</td>\n",
              "      <td>111.98</td>\n",
              "      <td>95.05</td>\n",
              "      <td>121.03</td>\n",
              "      <td>160.083</td>\n",
              "      <td>93.974</td>\n",
              "      <td>101.965</td>\n",
              "      <td>91.048</td>\n",
              "      <td>85.043</td>\n",
              "      <td>137.972</td>\n",
              "      <td>95.977</td>\n",
              "      <td>159.145</td>\n",
              "      <td>119.972</td>\n",
              "      <td>141.971</td>\n",
              "      <td>104.066</td>\n",
              "      <td>85.909</td>\n",
              "      <td>114.965</td>\n",
              "      <td>103.019</td>\n",
              "      <td>144.021</td>\n",
              "      <td>186.054</td>\n",
              "      <td>99.914</td>\n",
              "      <td>102.013</td>\n",
              "      <td>106.028</td>\n",
              "      <td>98.064</td>\n",
              "      <td>122.863</td>\n",
              "      <td>134.066</td>\n",
              "      <td>105.969</td>\n",
              "      <td>121.996</td>\n",
              "      <td>167.88</td>\n",
              "      <td>91.92</td>\n",
              "      <td>97.985</td>\n",
              "      <td>123.98</td>\n",
              "      <td>97.98</td>\n",
              "      <td>155.096</td>\n",
              "      <td>124.007</td>\n",
              "      <td>136.949</td>\n",
              "      <td>117.959</td>\n",
              "      <td>130.049</td>\n",
              "      <td>75.016</td>\n",
              "      <td>159.772</td>\n",
              "    </tr>\n",
              "    <tr>\n",
              "      <th>50%</th>\n",
              "      <td>100.015</td>\n",
              "      <td>106.97</td>\n",
              "      <td>144.937</td>\n",
              "      <td>143.965</td>\n",
              "      <td>145.017</td>\n",
              "      <td>100.041</td>\n",
              "      <td>137.817</td>\n",
              "      <td>127.076</td>\n",
              "      <td>75.016</td>\n",
              "      <td>124.982</td>\n",
              "      <td>98.963</td>\n",
              "      <td>81.477</td>\n",
              "      <td>105.003</td>\n",
              "      <td>135.007</td>\n",
              "      <td>189.798</td>\n",
              "      <td>102.034</td>\n",
              "      <td>95.01</td>\n",
              "      <td>99.905</td>\n",
              "      <td>92.943</td>\n",
              "      <td>123.071</td>\n",
              "      <td>139.931</td>\n",
              "      <td>177.833</td>\n",
              "      <td>88.931</td>\n",
              "      <td>159.797</td>\n",
              "      <td>100.048</td>\n",
              "      <td>180.043</td>\n",
              "      <td>179.91</td>\n",
              "      <td>92.028</td>\n",
              "      <td>133.987</td>\n",
              "      <td>101.018</td>\n",
              "      <td>93.973</td>\n",
              "      <td>104.99</td>\n",
              "      <td>99.943</td>\n",
              "      <td>139.994</td>\n",
              "      <td>150.02</td>\n",
              "      <td>104.992</td>\n",
              "      <td>121.971</td>\n",
              "      <td>179.666</td>\n",
              "      <td>117.973</td>\n",
              "      <td>92.994</td>\n",
              "      <td>...</td>\n",
              "      <td>99.99</td>\n",
              "      <td>111.98</td>\n",
              "      <td>95.05</td>\n",
              "      <td>121.03</td>\n",
              "      <td>160.083</td>\n",
              "      <td>93.974</td>\n",
              "      <td>101.965</td>\n",
              "      <td>91.048</td>\n",
              "      <td>85.043</td>\n",
              "      <td>137.972</td>\n",
              "      <td>95.977</td>\n",
              "      <td>159.145</td>\n",
              "      <td>119.972</td>\n",
              "      <td>141.971</td>\n",
              "      <td>104.066</td>\n",
              "      <td>85.909</td>\n",
              "      <td>114.965</td>\n",
              "      <td>103.019</td>\n",
              "      <td>144.021</td>\n",
              "      <td>186.054</td>\n",
              "      <td>99.914</td>\n",
              "      <td>102.013</td>\n",
              "      <td>106.028</td>\n",
              "      <td>98.064</td>\n",
              "      <td>122.863</td>\n",
              "      <td>134.066</td>\n",
              "      <td>105.969</td>\n",
              "      <td>121.996</td>\n",
              "      <td>167.88</td>\n",
              "      <td>91.92</td>\n",
              "      <td>97.985</td>\n",
              "      <td>123.98</td>\n",
              "      <td>97.98</td>\n",
              "      <td>155.096</td>\n",
              "      <td>124.007</td>\n",
              "      <td>136.949</td>\n",
              "      <td>117.959</td>\n",
              "      <td>130.049</td>\n",
              "      <td>75.016</td>\n",
              "      <td>159.772</td>\n",
              "    </tr>\n",
              "    <tr>\n",
              "      <th>75%</th>\n",
              "      <td>100.015</td>\n",
              "      <td>106.97</td>\n",
              "      <td>144.937</td>\n",
              "      <td>143.965</td>\n",
              "      <td>145.017</td>\n",
              "      <td>100.041</td>\n",
              "      <td>137.817</td>\n",
              "      <td>127.076</td>\n",
              "      <td>75.016</td>\n",
              "      <td>124.982</td>\n",
              "      <td>98.963</td>\n",
              "      <td>81.477</td>\n",
              "      <td>105.003</td>\n",
              "      <td>135.007</td>\n",
              "      <td>189.798</td>\n",
              "      <td>102.034</td>\n",
              "      <td>95.01</td>\n",
              "      <td>99.905</td>\n",
              "      <td>92.943</td>\n",
              "      <td>123.071</td>\n",
              "      <td>139.931</td>\n",
              "      <td>177.833</td>\n",
              "      <td>88.931</td>\n",
              "      <td>159.797</td>\n",
              "      <td>100.048</td>\n",
              "      <td>180.043</td>\n",
              "      <td>179.91</td>\n",
              "      <td>92.028</td>\n",
              "      <td>133.987</td>\n",
              "      <td>101.018</td>\n",
              "      <td>93.973</td>\n",
              "      <td>104.99</td>\n",
              "      <td>99.943</td>\n",
              "      <td>139.994</td>\n",
              "      <td>150.02</td>\n",
              "      <td>104.992</td>\n",
              "      <td>121.971</td>\n",
              "      <td>179.666</td>\n",
              "      <td>117.973</td>\n",
              "      <td>92.994</td>\n",
              "      <td>...</td>\n",
              "      <td>99.99</td>\n",
              "      <td>111.98</td>\n",
              "      <td>95.05</td>\n",
              "      <td>121.03</td>\n",
              "      <td>160.083</td>\n",
              "      <td>93.974</td>\n",
              "      <td>101.965</td>\n",
              "      <td>91.048</td>\n",
              "      <td>85.043</td>\n",
              "      <td>137.972</td>\n",
              "      <td>95.977</td>\n",
              "      <td>159.145</td>\n",
              "      <td>119.972</td>\n",
              "      <td>141.971</td>\n",
              "      <td>104.066</td>\n",
              "      <td>85.909</td>\n",
              "      <td>114.965</td>\n",
              "      <td>103.019</td>\n",
              "      <td>144.021</td>\n",
              "      <td>186.054</td>\n",
              "      <td>99.914</td>\n",
              "      <td>102.013</td>\n",
              "      <td>106.028</td>\n",
              "      <td>98.064</td>\n",
              "      <td>122.863</td>\n",
              "      <td>134.066</td>\n",
              "      <td>105.969</td>\n",
              "      <td>121.996</td>\n",
              "      <td>167.88</td>\n",
              "      <td>91.92</td>\n",
              "      <td>97.985</td>\n",
              "      <td>123.98</td>\n",
              "      <td>97.98</td>\n",
              "      <td>155.096</td>\n",
              "      <td>124.007</td>\n",
              "      <td>136.949</td>\n",
              "      <td>117.959</td>\n",
              "      <td>130.049</td>\n",
              "      <td>75.016</td>\n",
              "      <td>159.772</td>\n",
              "    </tr>\n",
              "    <tr>\n",
              "      <th>max</th>\n",
              "      <td>100.015</td>\n",
              "      <td>106.97</td>\n",
              "      <td>144.937</td>\n",
              "      <td>143.965</td>\n",
              "      <td>145.017</td>\n",
              "      <td>100.041</td>\n",
              "      <td>137.817</td>\n",
              "      <td>127.076</td>\n",
              "      <td>75.016</td>\n",
              "      <td>124.982</td>\n",
              "      <td>98.963</td>\n",
              "      <td>81.477</td>\n",
              "      <td>105.003</td>\n",
              "      <td>135.007</td>\n",
              "      <td>189.798</td>\n",
              "      <td>102.034</td>\n",
              "      <td>95.01</td>\n",
              "      <td>99.905</td>\n",
              "      <td>92.943</td>\n",
              "      <td>123.071</td>\n",
              "      <td>139.931</td>\n",
              "      <td>177.833</td>\n",
              "      <td>88.931</td>\n",
              "      <td>159.797</td>\n",
              "      <td>100.048</td>\n",
              "      <td>180.043</td>\n",
              "      <td>179.91</td>\n",
              "      <td>92.028</td>\n",
              "      <td>133.987</td>\n",
              "      <td>101.018</td>\n",
              "      <td>93.973</td>\n",
              "      <td>104.99</td>\n",
              "      <td>99.943</td>\n",
              "      <td>139.994</td>\n",
              "      <td>150.02</td>\n",
              "      <td>104.992</td>\n",
              "      <td>121.971</td>\n",
              "      <td>179.666</td>\n",
              "      <td>117.973</td>\n",
              "      <td>92.994</td>\n",
              "      <td>...</td>\n",
              "      <td>99.99</td>\n",
              "      <td>111.98</td>\n",
              "      <td>95.05</td>\n",
              "      <td>121.03</td>\n",
              "      <td>160.083</td>\n",
              "      <td>93.974</td>\n",
              "      <td>101.965</td>\n",
              "      <td>91.048</td>\n",
              "      <td>85.043</td>\n",
              "      <td>137.972</td>\n",
              "      <td>95.977</td>\n",
              "      <td>159.145</td>\n",
              "      <td>119.972</td>\n",
              "      <td>141.971</td>\n",
              "      <td>104.066</td>\n",
              "      <td>85.909</td>\n",
              "      <td>114.965</td>\n",
              "      <td>103.019</td>\n",
              "      <td>144.021</td>\n",
              "      <td>186.054</td>\n",
              "      <td>99.914</td>\n",
              "      <td>102.013</td>\n",
              "      <td>106.028</td>\n",
              "      <td>98.064</td>\n",
              "      <td>122.863</td>\n",
              "      <td>134.066</td>\n",
              "      <td>105.969</td>\n",
              "      <td>121.996</td>\n",
              "      <td>167.88</td>\n",
              "      <td>91.92</td>\n",
              "      <td>97.985</td>\n",
              "      <td>123.98</td>\n",
              "      <td>97.98</td>\n",
              "      <td>155.096</td>\n",
              "      <td>124.007</td>\n",
              "      <td>136.949</td>\n",
              "      <td>117.959</td>\n",
              "      <td>130.049</td>\n",
              "      <td>75.016</td>\n",
              "      <td>159.772</td>\n",
              "    </tr>\n",
              "  </tbody>\n",
              "</table>\n",
              "<p>8 rows × 100 columns</p>\n",
              "</div>"
            ],
            "text/plain": [
              "name   1-800-273-8255  24K Magic  ...  iSpy (feat. Lil Yachty)  rockstar\n",
              "count           1.000       1.00  ...                    1.000     1.000\n",
              "mean          100.015     106.97  ...                   75.016   159.772\n",
              "std               NaN        NaN  ...                      NaN       NaN\n",
              "min           100.015     106.97  ...                   75.016   159.772\n",
              "25%           100.015     106.97  ...                   75.016   159.772\n",
              "50%           100.015     106.97  ...                   75.016   159.772\n",
              "75%           100.015     106.97  ...                   75.016   159.772\n",
              "max           100.015     106.97  ...                   75.016   159.772\n",
              "\n",
              "[8 rows x 100 columns]"
            ]
          },
          "metadata": {},
          "execution_count": 11
        }
      ]
    },
    {
      "cell_type": "code",
      "metadata": {
        "colab": {
          "base_uri": "https://localhost:8080/"
        },
        "id": "5Z8TAupgzBm2",
        "outputId": "ea6bc41b-283f-42c1-b208-1f0faad46a16"
      },
      "source": [
        "dataset.sort_values('tempo', ascending = True).head()\n",
        "dataset.sort_values('tempo', ascending = True).iloc[:, -1]"
      ],
      "execution_count": null,
      "outputs": [
        {
          "output_type": "execute_result",
          "data": {
            "text/plain": [
              "45    4.0\n",
              "94    4.0\n",
              "46    4.0\n",
              "4     4.0\n",
              "69    4.0\n",
              "     ... \n",
              "61    4.0\n",
              "99    4.0\n",
              "31    4.0\n",
              "63    4.0\n",
              "52    4.0\n",
              "Name: time_signature, Length: 100, dtype: float64"
            ]
          },
          "metadata": {},
          "execution_count": 12
        }
      ]
    },
    {
      "cell_type": "markdown",
      "metadata": {
        "id": "09u-IRsRtcRp"
      },
      "source": [
        "##**Most Popular Songs**##"
      ]
    },
    {
      "cell_type": "markdown",
      "metadata": {
        "id": "bDvrZFFttWAB"
      },
      "source": [
        "How do we determine which are the most popular songs? For this task, we'll count how many times each song appears. Note that while we are using Time Watched, we only care about the number of rows, we don't consider the number present in that row. This number represents how many times one user listen to the same song."
      ]
    },
    {
      "cell_type": "code",
      "metadata": {
        "id": "CN2RrbWvW2rN"
      },
      "source": [
        "#count how many rows we have by song, we show only the ten more popular songs \n",
        "ten_pop_songs = dataset.groupby('name')['duration_ms'].count().reset_index().sort_values(['duration_ms', 'name'], ascending = [0,1])\n",
        "ten_pop_songs['percentage']  = round(dataset['duration_ms'].div(dataset['duration_ms'].sum())*100, 2)"
      ],
      "execution_count": null,
      "outputs": []
    },
    {
      "cell_type": "code",
      "metadata": {
        "id": "ZYKj8EvovKne"
      },
      "source": [
        "ten_pop_songs.rename(columns = {'name': 'Song Name', 'duration_ms': 'Time Watched'}, inplace = True)"
      ],
      "execution_count": null,
      "outputs": []
    },
    {
      "cell_type": "code",
      "metadata": {
        "id": "5BRD44Dbbkv_"
      },
      "source": [
        "ten_pop_songs['Time Watched'] = dataset['duration_ms']"
      ],
      "execution_count": null,
      "outputs": []
    },
    {
      "cell_type": "code",
      "metadata": {
        "colab": {
          "base_uri": "https://localhost:8080/",
          "height": 363
        },
        "id": "2futmIgLcbca",
        "outputId": "4aeaa60f-3741-4291-d97b-fff9d06f16b6"
      },
      "source": [
        "ten_pop_songs = ten_pop_songs[:10]\n",
        "ten_pop_songs"
      ],
      "execution_count": null,
      "outputs": [
        {
          "output_type": "execute_result",
          "data": {
            "text/html": [
              "<div>\n",
              "<style scoped>\n",
              "    .dataframe tbody tr th:only-of-type {\n",
              "        vertical-align: middle;\n",
              "    }\n",
              "\n",
              "    .dataframe tbody tr th {\n",
              "        vertical-align: top;\n",
              "    }\n",
              "\n",
              "    .dataframe thead th {\n",
              "        text-align: right;\n",
              "    }\n",
              "</style>\n",
              "<table border=\"1\" class=\"dataframe\">\n",
              "  <thead>\n",
              "    <tr style=\"text-align: right;\">\n",
              "      <th></th>\n",
              "      <th>Song Name</th>\n",
              "      <th>Time Watched</th>\n",
              "      <th>percentage</th>\n",
              "    </tr>\n",
              "  </thead>\n",
              "  <tbody>\n",
              "    <tr>\n",
              "      <th>0</th>\n",
              "      <td>1-800-273-8255</td>\n",
              "      <td>233713.0</td>\n",
              "      <td>1.07</td>\n",
              "    </tr>\n",
              "    <tr>\n",
              "      <th>1</th>\n",
              "      <td>24K Magic</td>\n",
              "      <td>228827.0</td>\n",
              "      <td>1.05</td>\n",
              "    </tr>\n",
              "    <tr>\n",
              "      <th>2</th>\n",
              "      <td>2U (feat. Justin Bieber)</td>\n",
              "      <td>228200.0</td>\n",
              "      <td>1.04</td>\n",
              "    </tr>\n",
              "    <tr>\n",
              "      <th>3</th>\n",
              "      <td>Ahora Dice</td>\n",
              "      <td>247160.0</td>\n",
              "      <td>1.13</td>\n",
              "    </tr>\n",
              "    <tr>\n",
              "      <th>4</th>\n",
              "      <td>All Night</td>\n",
              "      <td>288600.0</td>\n",
              "      <td>1.32</td>\n",
              "    </tr>\n",
              "    <tr>\n",
              "      <th>5</th>\n",
              "      <td>Attention</td>\n",
              "      <td>177000.0</td>\n",
              "      <td>0.81</td>\n",
              "    </tr>\n",
              "    <tr>\n",
              "      <th>6</th>\n",
              "      <td>Bad Things (with Camila Cabello)</td>\n",
              "      <td>220781.0</td>\n",
              "      <td>1.01</td>\n",
              "    </tr>\n",
              "    <tr>\n",
              "      <th>7</th>\n",
              "      <td>Bad and Boujee (feat. Lil Uzi Vert)</td>\n",
              "      <td>233902.0</td>\n",
              "      <td>1.07</td>\n",
              "    </tr>\n",
              "    <tr>\n",
              "      <th>8</th>\n",
              "      <td>Bank Account</td>\n",
              "      <td>206693.0</td>\n",
              "      <td>0.95</td>\n",
              "    </tr>\n",
              "    <tr>\n",
              "      <th>9</th>\n",
              "      <td>Believer</td>\n",
              "      <td>245200.0</td>\n",
              "      <td>1.12</td>\n",
              "    </tr>\n",
              "  </tbody>\n",
              "</table>\n",
              "</div>"
            ],
            "text/plain": [
              "                             Song Name  Time Watched  percentage\n",
              "0                       1-800-273-8255      233713.0        1.07\n",
              "1                            24K Magic      228827.0        1.05\n",
              "2             2U (feat. Justin Bieber)      228200.0        1.04\n",
              "3                           Ahora Dice      247160.0        1.13\n",
              "4                            All Night      288600.0        1.32\n",
              "5                            Attention      177000.0        0.81\n",
              "6     Bad Things (with Camila Cabello)      220781.0        1.01\n",
              "7  Bad and Boujee (feat. Lil Uzi Vert)      233902.0        1.07\n",
              "8                         Bank Account      206693.0        0.95\n",
              "9                             Believer      245200.0        1.12"
            ]
          },
          "metadata": {},
          "execution_count": 16
        }
      ]
    },
    {
      "cell_type": "code",
      "metadata": {
        "id": "Y4qcaHhpdqvd"
      },
      "source": [
        "labels = ten_pop_songs['Song Name'].tolist()\n",
        "counts = ten_pop_songs['Time Watched'].tolist()"
      ],
      "execution_count": null,
      "outputs": []
    },
    {
      "cell_type": "code",
      "metadata": {
        "colab": {
          "base_uri": "https://localhost:8080/",
          "height": 265
        },
        "id": "J_TAmdIUdqyB",
        "outputId": "09db620c-def4-4d6a-ad7d-5d66e717b896"
      },
      "source": [
        "plt.figure()\n",
        "sb.barplot(x = counts, y = labels, palette = 'Set1')\n",
        "sb.despine(left = True, bottom = True)"
      ],
      "execution_count": null,
      "outputs": [
        {
          "output_type": "display_data",
          "data": {
            "image/png": "[encoded data removed]",
            "text/plain": [
              "<Figure size 432x288 with 1 Axes>"
            ]
          },
          "metadata": {
            "needs_background": "light"
          }
        }
      ]
    },
    {
      "cell_type": "markdown",
      "metadata": {
        "id": "uUoWXsWFeWOw"
      },
      "source": [
        "##**Most Popular Artists/Bands**##"
      ]
    },
    {
      "cell_type": "markdown",
      "metadata": {
        "id": "V8wIBpritv-u"
      },
      "source": [
        "For the next task, we'll count how many times each artist or a band appears in reference with the Time Signature. Again, we'll count how many times the same artist appears."
      ]
    },
    {
      "cell_type": "code",
      "metadata": {
        "id": "Y8I0PK_gdq1X"
      },
      "source": [
        "#count how many rows we have by artist name, we show only the ten more popular artist \n",
        "ten_pop_artists  = dataset.groupby(['artists'])['duration_ms'].count().reset_index().sort_values(['duration_ms', 'artists'], \n",
        "                                                                                                ascending = [0,1])"
      ],
      "execution_count": null,
      "outputs": []
    },
    {
      "cell_type": "code",
      "metadata": {
        "id": "sWzejYwslWWR"
      },
      "source": [
        "ten_pop_artists.rename(columns = {'artists': 'Artists/Bands', 'duration_ms': 'Time Signature'}, inplace = True)"
      ],
      "execution_count": null,
      "outputs": []
    },
    {
      "cell_type": "code",
      "metadata": {
        "colab": {
          "base_uri": "https://localhost:8080/",
          "height": 363
        },
        "id": "i9ukkQCTi6ld",
        "outputId": "bd694b36-199a-4408-bf84-88427832e48a"
      },
      "source": [
        "ten_pop_artists = ten_pop_artists[:10]\n",
        "ten_pop_artists"
      ],
      "execution_count": null,
      "outputs": [
        {
          "output_type": "execute_result",
          "data": {
            "text/html": [
              "<div>\n",
              "<style scoped>\n",
              "    .dataframe tbody tr th:only-of-type {\n",
              "        vertical-align: middle;\n",
              "    }\n",
              "\n",
              "    .dataframe tbody tr th {\n",
              "        vertical-align: top;\n",
              "    }\n",
              "\n",
              "    .dataframe thead th {\n",
              "        text-align: right;\n",
              "    }\n",
              "</style>\n",
              "<table border=\"1\" class=\"dataframe\">\n",
              "  <thead>\n",
              "    <tr style=\"text-align: right;\">\n",
              "      <th></th>\n",
              "      <th>Artists/Bands</th>\n",
              "      <th>Time Signature</th>\n",
              "    </tr>\n",
              "  </thead>\n",
              "  <tbody>\n",
              "    <tr>\n",
              "      <th>23</th>\n",
              "      <td>Ed Sheeran</td>\n",
              "      <td>4</td>\n",
              "    </tr>\n",
              "    <tr>\n",
              "      <th>70</th>\n",
              "      <td>The Chainsmokers</td>\n",
              "      <td>4</td>\n",
              "    </tr>\n",
              "    <tr>\n",
              "      <th>21</th>\n",
              "      <td>Drake</td>\n",
              "      <td>3</td>\n",
              "    </tr>\n",
              "    <tr>\n",
              "      <th>55</th>\n",
              "      <td>Martin Garrix</td>\n",
              "      <td>3</td>\n",
              "    </tr>\n",
              "    <tr>\n",
              "      <th>7</th>\n",
              "      <td>Bruno Mars</td>\n",
              "      <td>2</td>\n",
              "    </tr>\n",
              "    <tr>\n",
              "      <th>9</th>\n",
              "      <td>Calvin Harris</td>\n",
              "      <td>2</td>\n",
              "    </tr>\n",
              "    <tr>\n",
              "      <th>15</th>\n",
              "      <td>Clean Bandit</td>\n",
              "      <td>2</td>\n",
              "    </tr>\n",
              "    <tr>\n",
              "      <th>16</th>\n",
              "      <td>DJ Khaled</td>\n",
              "      <td>2</td>\n",
              "    </tr>\n",
              "    <tr>\n",
              "      <th>30</th>\n",
              "      <td>Imagine Dragons</td>\n",
              "      <td>2</td>\n",
              "    </tr>\n",
              "    <tr>\n",
              "      <th>40</th>\n",
              "      <td>Kendrick Lamar</td>\n",
              "      <td>2</td>\n",
              "    </tr>\n",
              "  </tbody>\n",
              "</table>\n",
              "</div>"
            ],
            "text/plain": [
              "       Artists/Bands  Time Signature\n",
              "23        Ed Sheeran               4\n",
              "70  The Chainsmokers               4\n",
              "21             Drake               3\n",
              "55     Martin Garrix               3\n",
              "7         Bruno Mars               2\n",
              "9      Calvin Harris               2\n",
              "15      Clean Bandit               2\n",
              "16         DJ Khaled               2\n",
              "30   Imagine Dragons               2\n",
              "40    Kendrick Lamar               2"
            ]
          },
          "metadata": {},
          "execution_count": 21
        }
      ]
    },
    {
      "cell_type": "code",
      "metadata": {
        "colab": {
          "base_uri": "https://localhost:8080/",
          "height": 265
        },
        "id": "hhNvnzkhlnLX",
        "outputId": "a5f5c751-063a-466b-dd8a-ce117a8619b8"
      },
      "source": [
        "plt.figure()\n",
        "labels = ten_pop_artists['Artists/Bands'].tolist()\n",
        "counts = ten_pop_artists['Time Signature'].tolist()\n",
        "sb.barplot(x=counts, y=labels, palette='Set2')\n",
        "sb.despine(left=True, bottom=True)"
      ],
      "execution_count": null,
      "outputs": [
        {
          "output_type": "display_data",
          "data": {
            "image/png": "[encoded data removed]",
            "text/plain": [
              "<Figure size 432x288 with 1 Axes>"
            ]
          },
          "metadata": {
            "needs_background": "light"
          }
        }
      ]
    },
    {
      "cell_type": "markdown",
      "metadata": {
        "id": "cgVYx4rHl--Q"
      },
      "source": [
        "##**Listen count by user**##"
      ]
    },
    {
      "cell_type": "markdown",
      "metadata": {
        "id": "toAuebJ5maVx"
      },
      "source": [
        "We can also get some other information from the feature listen_count. We will answer the following questions:"
      ]
    },
    {
      "cell_type": "markdown",
      "metadata": {
        "id": "pzeTaO7Hu7Es"
      },
      "source": [
        "###**What was the maximum time the same user listen to a same song?**###"
      ]
    },
    {
      "cell_type": "code",
      "metadata": {
        "id": "loTxx4h9l-HE"
      },
      "source": [
        "duration_ms = pd.DataFrame(dataset.groupby('duration_ms').size(), columns=['count'])"
      ],
      "execution_count": null,
      "outputs": []
    },
    {
      "cell_type": "code",
      "metadata": {
        "colab": {
          "base_uri": "https://localhost:8080/"
        },
        "id": "Z6rK2uvTlnPU",
        "outputId": "287df188-2ba5-48d3-a244-d25d023eacba"
      },
      "source": [
        "print(f\"The maximum time the same user listened to the same songs was: {duration_ms.reset_index(drop=False)['duration_ms'].iloc[-1]}\")"
      ],
      "execution_count": null,
      "outputs": [
        {
          "output_type": "stream",
          "text": [
            "The maximum time the same user listened to the same songs was: 343150.0\n"
          ],
          "name": "stdout"
        }
      ]
    },
    {
      "cell_type": "markdown",
      "metadata": {
        "id": "UWc2g9hym7Ms"
      },
      "source": [
        "###**How many times on average the same user listen to a same song?**###"
      ]
    },
    {
      "cell_type": "code",
      "metadata": {
        "colab": {
          "base_uri": "https://localhost:8080/"
        },
        "id": "iMLdXHFfm3i-",
        "outputId": "fb6e5f11-9aff-40bc-9386-bb11a87250c4"
      },
      "source": [
        "print(f\"On average, a user listen to the same song {dataset['duration_ms'].mean()} times\")"
      ],
      "execution_count": null,
      "outputs": [
        {
          "output_type": "stream",
          "text": [
            "On average, a user listen to the same song 218387.28 times\n"
          ],
          "name": "stdout"
        }
      ]
    },
    {
      "cell_type": "markdown",
      "metadata": {
        "id": "3JZ04BO3nJZb"
      },
      "source": [
        "We can also check the distribution of our listen count which is in duration_ms"
      ]
    },
    {
      "cell_type": "code",
      "metadata": {
        "colab": {
          "base_uri": "https://localhost:8080/",
          "height": 335
        },
        "id": "Pw0NbYXDm3mg",
        "outputId": "e9ac84ec-cb2d-465d-ada2-efb0fa922f84"
      },
      "source": [
        "plt.figure(figsize=(20, 5)) #distribution of duration_ms\n",
        "sb.boxplot(x='duration_ms', data = dataset);"
      ],
      "execution_count": null,
      "outputs": [
        {
          "output_type": "display_data",
          "data": {
            "image/png": "[encoded data removed]",
            "text/plain": [
              "<Figure size 1440x360 with 1 Axes>"
            ]
          },
          "metadata": {
            "needs_background": "light"
          }
        }
      ]
    },
    {
      "cell_type": "markdown",
      "metadata": {
        "id": "d8Z7Oog7njpR"
      },
      "source": [
        "###**What are the most frequent number of times a user listen to the same song?**###"
      ]
    },
    {
      "cell_type": "code",
      "metadata": {
        "id": "vk7Coc4dnkmf"
      },
      "source": [
        "#duration_ms_temp = duration_ms[duration_ms['count'] > 50].reset_index(drop=False)"
      ],
      "execution_count": null,
      "outputs": []
    },
    {
      "cell_type": "code",
      "metadata": {
        "colab": {
          "base_uri": "https://localhost:8080/",
          "height": 498
        },
        "id": "ORz0QRjrnuuH",
        "outputId": "5ef01b56-0069-4b27-9d3d-b5a7781a8774"
      },
      "source": [
        "plt.figure(figsize=(16, 8))\n",
        "sb.barplot(x = 'duration_ms', y = 'artists', palette='Set1', data = dataset.iloc[2:14])\n",
        "plt.gca().spines['top'].set_visible(False)\n",
        "plt.gca().spines['right'].set_visible(False)\n",
        "plt.show();"
      ],
      "execution_count": null,
      "outputs": [
        {
          "output_type": "display_data",
          "data": {
            "image/png": "[encoded data removed]",
            "text/plain": [
              "<Figure size 1152x576 with 1 Axes>"
            ]
          },
          "metadata": {
            "needs_background": "light"
          }
        }
      ]
    },
    {
      "cell_type": "markdown",
      "metadata": {
        "id": "reRKOoc20dpv"
      },
      "source": [
        "##**Plotting the Data with Graphs**##"
      ]
    },
    {
      "cell_type": "code",
      "metadata": {
        "colab": {
          "base_uri": "https://localhost:8080/",
          "height": 879
        },
        "id": "p6y0rYQEgqFm",
        "outputId": "6c3ee23a-acf3-45da-bc2a-4402bc7836b0"
      },
      "source": [
        "dataset.hist(figsize = (15,15))\n",
        "plt.show()"
      ],
      "execution_count": null,
      "outputs": [
        {
          "output_type": "display_data",
          "data": {
            "image/png": "[encoded data removed]",
            "text/plain": [
              "<Figure size 1080x1080 with 16 Axes>"
            ]
          },
          "metadata": {
            "needs_background": "light"
          }
        }
      ]
    },
    {
      "cell_type": "code",
      "metadata": {
        "id": "dHrdRV0ng6hh"
      },
      "source": [
        "import random\n",
        "mylist = dataset.iloc[:1]\n",
        "random.shuffle(mylist)"
      ],
      "execution_count": null,
      "outputs": []
    },
    {
      "cell_type": "code",
      "metadata": {
        "colab": {
          "base_uri": "https://localhost:8080/"
        },
        "id": "2xQv_1Yqg6lI",
        "outputId": "bb76872e-cccd-4eb3-c116-c81810b90553"
      },
      "source": [
        "print(mylist)"
      ],
      "execution_count": null,
      "outputs": [
        {
          "output_type": "stream",
          "text": [
            "                      id          name  ... duration_ms  time_signature\n",
            "0  7qiZfU4dY1lWllzX7mPBI  Shape of You  ...    233713.0             4.0\n",
            "\n",
            "[1 rows x 16 columns]\n"
          ],
          "name": "stdout"
        }
      ]
    },
    {
      "cell_type": "code",
      "metadata": {
        "id": "tYD1YjCsizAc"
      },
      "source": [
        "X = dataset.iloc[:, [3,4]].values\n",
        "print(X)"
      ],
      "execution_count": null,
      "outputs": []
    },
    {
      "cell_type": "code",
      "metadata": {
        "id": "VbWTXaY_i8cb"
      },
      "source": [
        "y = dataset.iloc[:, [3,5]].values\n",
        "print(y)"
      ],
      "execution_count": null,
      "outputs": []
    },
    {
      "cell_type": "markdown",
      "metadata": {
        "id": "9hjiO5mTK3Kx"
      },
      "source": [
        "##**Applying K-Means Clustering and Visualising predicted result diagramtically**##"
      ]
    },
    {
      "cell_type": "code",
      "metadata": {
        "id": "LPiTpvjYcfUQ"
      },
      "source": [
        "from sklearn.cluster import KMeans"
      ],
      "execution_count": null,
      "outputs": []
    },
    {
      "cell_type": "code",
      "metadata": {
        "id": "rts51I1SgJML",
        "colab": {
          "base_uri": "https://localhost:8080/",
          "height": 295
        },
        "outputId": "2e10635f-3292-4244-cf96-d61cf29c9c0b"
      },
      "source": [
        "wcss = []\n",
        "for i in range(1,10):\n",
        "  kmeans = KMeans(n_clusters = i, init = 'k-means++', random_state = 42)\n",
        "  kmeans.fit(X)\n",
        "  wcss.append(kmeans.inertia_)\n",
        "kmeans = KMeans(n_clusters = 5, init = 'k-means++', random_state = 42)\n",
        "y_kmeans = kmeans.fit_predict(X)\n",
        "plt.scatter(X[y_kmeans == 0,0], X[y_kmeans == 0,1], s = 100, c = 'red', label = 'Cluster1')\n",
        "plt.scatter(X[y_kmeans == 1,0], X[y_kmeans == 1,1], s = 100, c = 'blue', label = 'Cluster2')\n",
        "plt.scatter(X[y_kmeans == 2,0], X[y_kmeans == 2,1], s = 100, c = 'green', label = 'Cluster3')\n",
        "plt.scatter(X[y_kmeans == 3,0], X[y_kmeans == 3,1], s = 100, c = 'pink', label = 'Cluster4')\n",
        "plt.scatter(X[y_kmeans == 4,0], X[y_kmeans == 4,1], s = 100, c = 'violet', label = 'Cluster5')\n",
        "plt.scatter(kmeans.cluster_centers_[:,0], kmeans.cluster_centers_[:,1], s = 200, c = 'magenta', label = 'Centroids')\n",
        "plt.title('Clusters of music');\n",
        "plt.xlabel('name')\n",
        "plt.ylabel('duration_ms')\n",
        "plt.legend()\n",
        "plt.show()"
      ],
      "execution_count": null,
      "outputs": [
        {
          "output_type": "display_data",
          "data": {
            "image/png": "[encoded data removed]",
            "text/plain": [
              "<Figure size 432x288 with 1 Axes>"
            ]
          },
          "metadata": {
            "needs_background": "light"
          }
        }
      ]
    }
  ]
}